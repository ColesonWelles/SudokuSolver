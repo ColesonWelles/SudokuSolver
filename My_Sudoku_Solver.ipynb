{
  "nbformat": 4,
  "nbformat_minor": 0,
  "metadata": {
    "colab": {
      "name": "My Sudoku Solver",
      "provenance": [],
      "collapsed_sections": [],
      "include_colab_link": true
    },
    "kernelspec": {
      "name": "python3",
      "display_name": "Python 3"
    }
  },
  "cells": [
    {
      "cell_type": "markdown",
      "metadata": {
        "id": "view-in-github",
        "colab_type": "text"
      },
      "source": [
        "<a href=\"https://colab.research.google.com/github/ColesonWelles/SudokuSolver/blob/main/My_Sudoku_Solver.ipynb\" target=\"_parent\"><img src=\"https://colab.research.google.com/assets/colab-badge.svg\" alt=\"Open In Colab\"/></a>"
      ]
    },
    {
      "cell_type": "code",
      "metadata": {
        "id": "sw6WXId3PH3P"
      },
      "source": [
        "'''\n",
        "Attribution: https://youtu.be/G_UYXzGuqvM\n",
        "'''"
      ],
      "execution_count": null,
      "outputs": []
    },
    {
      "cell_type": "code",
      "metadata": {
        "id": "JVuhSoGJF1SA",
        "outputId": "bbc58a2d-f99e-4130-a73a-b0de28089b14",
        "colab": {
          "base_uri": "https://localhost:8080/",
          "height": 191
        }
      },
      "source": [
        "import numpy as np\n",
        "def input_grid():\n",
        "  grid = []\n",
        "  print(\"Enter each line without spaces, using 0 for unknown values\")\n",
        "  for i in range(1,10):\n",
        "    print(f\"Enter line {i}: \", end=\"\")\n",
        "    line = list(input())\n",
        "    for number in range(0, len(line)):\n",
        "      line[number] = int(line[number])\n",
        "    grid.append(line)\n",
        "  return grid\n",
        "\n",
        "grid = input_grid()"
      ],
      "execution_count": null,
      "outputs": [
        {
          "output_type": "stream",
          "text": [
            "Enter each line without spaces, using 0 for unknown values\n",
            "Enter line 1: 080060001\n",
            "Enter line 2: 007001000\n",
            "Enter line 3: 600409087\n",
            "Enter line 4: 000000940\n",
            "Enter line 5: 045000008\n",
            "Enter line 6: 000000500\n",
            "Enter line 7: 300000090\n",
            "Enter line 8: 420000000\n",
            "Enter line 9: 001200700\n"
          ],
          "name": "stdout"
        }
      ]
    },
    {
      "cell_type": "code",
      "metadata": {
        "id": "CKYcMt77BfjM"
      },
      "source": [
        "def possible(y,x,n):\n",
        "  global grid\n",
        "  for i in range(0,9):\n",
        "    if grid[y][i] == n:\n",
        "      return False\n",
        "  for i in range(0,9):\n",
        "    if grid[i][x] == n:\n",
        "      return False\n",
        "  x0 = (x//3)*3\n",
        "  y0 = (y//3)*3\n",
        "  for i in range (0,3):\n",
        "    for j in range(0,3):\n",
        "      if grid[y0+i][x0+j] == n:\n",
        "        return False\n",
        "  return True"
      ],
      "execution_count": null,
      "outputs": []
    },
    {
      "cell_type": "code",
      "metadata": {
        "id": "ape3BOgnBf6j"
      },
      "source": [
        "def solve():\n",
        "  global grid\n",
        "  for y in range (9): \n",
        "    for x in range(9):\n",
        "      if grid[y][x] == 0:\n",
        "        for n in range(1,10):\n",
        "          if possible(y,x,n):\n",
        "            grid[y][x] = n \n",
        "            solve()\n",
        "            grid[y][x] = 0\n",
        "        return \n",
        "  print(np.matrix(grid))\n",
        "  input('Additional Solutions?')"
      ],
      "execution_count": null,
      "outputs": []
    },
    {
      "cell_type": "code",
      "metadata": {
        "id": "9d2mn0mTC9am",
        "outputId": "0bb26f84-28bd-457b-9395-029efa5793d7",
        "colab": {
          "base_uri": "https://localhost:8080/",
          "height": 191
        }
      },
      "source": [
        "solve()"
      ],
      "execution_count": null,
      "outputs": [
        {
          "output_type": "stream",
          "text": [
            "[[9 8 4 7 6 2 3 5 1]\n",
            " [2 5 7 3 8 1 4 6 9]\n",
            " [6 1 3 4 5 9 2 8 7]\n",
            " [8 3 2 5 1 7 9 4 6]\n",
            " [7 4 5 9 3 6 1 2 8]\n",
            " [1 9 6 8 2 4 5 7 3]\n",
            " [3 7 8 1 4 5 6 9 2]\n",
            " [4 2 9 6 7 3 8 1 5]\n",
            " [5 6 1 2 9 8 7 3 4]]\n",
            "Additional Solutions?\n"
          ],
          "name": "stdout"
        }
      ]
    }
  ]
}